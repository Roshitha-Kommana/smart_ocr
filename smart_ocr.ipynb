{
 "cells": [
  {
   "cell_type": "code",
   "execution_count": 1,
   "metadata": {},
   "outputs": [
    {
     "name": "stdout",
     "output_type": "stream",
     "text": [
      "Requirement already satisfied: pytesseract in c:\\users\\roshi\\appdata\\local\\programs\\python\\python311\\lib\\site-packages (0.3.13)\n",
      "Requirement already satisfied: packaging>=21.3 in c:\\users\\roshi\\appdata\\roaming\\python\\python311\\site-packages (from pytesseract) (24.1)\n",
      "Requirement already satisfied: Pillow>=8.0.0 in c:\\users\\roshi\\appdata\\local\\programs\\python\\python311\\lib\\site-packages (from pytesseract) (10.4.0)\n",
      "Note: you may need to restart the kernel to use updated packages.\n"
     ]
    }
   ],
   "source": [
    "pip install pytesseract"
   ]
  },
  {
   "cell_type": "code",
   "execution_count": 1,
   "metadata": {},
   "outputs": [
    {
     "name": "stdout",
     "output_type": "stream",
     "text": [
      "Requirement already satisfied: opencv-python in c:\\users\\roshi\\appdata\\local\\programs\\python\\python312\\lib\\site-packages (4.10.0.84)\n",
      "Requirement already satisfied: numpy>=1.21.2 in c:\\users\\roshi\\appdata\\local\\programs\\python\\python312\\lib\\site-packages (from opencv-python) (2.0.1)\n",
      "Note: you may need to restart the kernel to use updated packages.\n"
     ]
    }
   ],
   "source": [
    "pip install opencv-python"
   ]
  },
  {
   "cell_type": "code",
   "execution_count": 3,
   "metadata": {},
   "outputs": [
    {
     "name": "stdout",
     "output_type": "stream",
     "text": [
      "Collecting PyPDF2\n",
      "  Using cached pypdf2-3.0.1-py3-none-any.whl.metadata (6.8 kB)\n",
      "Using cached pypdf2-3.0.1-py3-none-any.whl (232 kB)\n",
      "Installing collected packages: PyPDF2\n",
      "Successfully installed PyPDF2-3.0.1\n",
      "Note: you may need to restart the kernel to use updated packages.\n"
     ]
    }
   ],
   "source": [
    "pip install PyPDF2"
   ]
  },
  {
   "cell_type": "code",
   "execution_count": 4,
   "metadata": {},
   "outputs": [
    {
     "name": "stdout",
     "output_type": "stream",
     "text": [
      "Collecting pymupdf\n",
      "  Downloading PyMuPDF-1.24.12-cp39-abi3-win_amd64.whl.metadata (3.4 kB)\n",
      "Downloading PyMuPDF-1.24.12-cp39-abi3-win_amd64.whl (16.0 MB)\n",
      "   ---------------------------------------- 0.0/16.0 MB ? eta -:--:--\n",
      "   - -------------------------------------- 0.5/16.0 MB 4.2 MB/s eta 0:00:04\n",
      "   - -------------------------------------- 0.5/16.0 MB 4.2 MB/s eta 0:00:04\n",
      "   --- ------------------------------------ 1.3/16.0 MB 2.7 MB/s eta 0:00:06\n",
      "   --- ------------------------------------ 1.3/16.0 MB 2.7 MB/s eta 0:00:06\n",
      "   ------ --------------------------------- 2.6/16.0 MB 2.6 MB/s eta 0:00:06\n",
      "   -------- ------------------------------- 3.4/16.0 MB 2.9 MB/s eta 0:00:05\n",
      "   ---------- ----------------------------- 4.2/16.0 MB 3.0 MB/s eta 0:00:04\n",
      "   ----------- ---------------------------- 4.7/16.0 MB 3.0 MB/s eta 0:00:04\n",
      "   ------------- -------------------------- 5.2/16.0 MB 2.9 MB/s eta 0:00:04\n",
      "   ------------- -------------------------- 5.5/16.0 MB 2.8 MB/s eta 0:00:04\n",
      "   -------------- ------------------------- 5.8/16.0 MB 2.6 MB/s eta 0:00:05\n",
      "   --------------- ------------------------ 6.0/16.0 MB 2.4 MB/s eta 0:00:05\n",
      "   --------------- ------------------------ 6.0/16.0 MB 2.4 MB/s eta 0:00:05\n",
      "   --------------- ------------------------ 6.3/16.0 MB 2.3 MB/s eta 0:00:05\n",
      "   ---------------- ----------------------- 6.6/16.0 MB 2.2 MB/s eta 0:00:05\n",
      "   ----------------- ---------------------- 6.8/16.0 MB 2.0 MB/s eta 0:00:05\n",
      "   ----------------- ---------------------- 6.8/16.0 MB 2.0 MB/s eta 0:00:05\n",
      "   ----------------- ---------------------- 7.1/16.0 MB 1.9 MB/s eta 0:00:05\n",
      "   ------------------ --------------------- 7.3/16.0 MB 1.8 MB/s eta 0:00:05\n",
      "   ------------------- -------------------- 7.6/16.0 MB 1.8 MB/s eta 0:00:05\n",
      "   ------------------- -------------------- 7.9/16.0 MB 1.8 MB/s eta 0:00:05\n",
      "   -------------------- ------------------- 8.1/16.0 MB 1.7 MB/s eta 0:00:05\n",
      "   -------------------- ------------------- 8.1/16.0 MB 1.7 MB/s eta 0:00:05\n",
      "   -------------------- ------------------- 8.1/16.0 MB 1.7 MB/s eta 0:00:05\n",
      "   -------------------- ------------------- 8.1/16.0 MB 1.7 MB/s eta 0:00:05\n",
      "   -------------------- ------------------- 8.4/16.0 MB 1.5 MB/s eta 0:00:05\n",
      "   -------------------- ------------------- 8.4/16.0 MB 1.5 MB/s eta 0:00:05\n",
      "   --------------------- ------------------ 8.7/16.0 MB 1.5 MB/s eta 0:00:05\n",
      "   --------------------- ------------------ 8.7/16.0 MB 1.5 MB/s eta 0:00:05\n",
      "   ---------------------- ----------------- 8.9/16.0 MB 1.4 MB/s eta 0:00:06\n",
      "   ---------------------- ----------------- 8.9/16.0 MB 1.4 MB/s eta 0:00:06\n",
      "   ---------------------- ----------------- 9.2/16.0 MB 1.4 MB/s eta 0:00:06\n",
      "   ---------------------- ----------------- 9.2/16.0 MB 1.4 MB/s eta 0:00:06\n",
      "   ----------------------- ---------------- 9.4/16.0 MB 1.3 MB/s eta 0:00:06\n",
      "   ----------------------- ---------------- 9.4/16.0 MB 1.3 MB/s eta 0:00:06\n",
      "   ----------------------- ---------------- 9.4/16.0 MB 1.3 MB/s eta 0:00:06\n",
      "   ------------------------ --------------- 9.7/16.0 MB 1.2 MB/s eta 0:00:06\n",
      "   ------------------------ --------------- 9.7/16.0 MB 1.2 MB/s eta 0:00:06\n",
      "   ------------------------ --------------- 10.0/16.0 MB 1.2 MB/s eta 0:00:05\n",
      "   ------------------------- -------------- 10.2/16.0 MB 1.2 MB/s eta 0:00:05\n",
      "   -------------------------- ------------- 10.5/16.0 MB 1.2 MB/s eta 0:00:05\n",
      "   --------------------------- ------------ 11.0/16.0 MB 1.2 MB/s eta 0:00:05\n",
      "   --------------------------- ------------ 11.0/16.0 MB 1.2 MB/s eta 0:00:05\n",
      "   --------------------------- ------------ 11.0/16.0 MB 1.2 MB/s eta 0:00:05\n",
      "   ---------------------------- ----------- 11.3/16.0 MB 1.2 MB/s eta 0:00:04\n",
      "   ---------------------------- ----------- 11.3/16.0 MB 1.2 MB/s eta 0:00:04\n",
      "   ---------------------------- ----------- 11.3/16.0 MB 1.2 MB/s eta 0:00:04\n",
      "   ---------------------------- ----------- 11.5/16.0 MB 1.1 MB/s eta 0:00:04\n",
      "   ----------------------------- ---------- 11.8/16.0 MB 1.1 MB/s eta 0:00:04\n",
      "   ----------------------------- ---------- 11.8/16.0 MB 1.1 MB/s eta 0:00:04\n",
      "   ------------------------------ --------- 12.1/16.0 MB 1.1 MB/s eta 0:00:04\n",
      "   ------------------------------ --------- 12.3/16.0 MB 1.1 MB/s eta 0:00:04\n",
      "   ------------------------------- -------- 12.6/16.0 MB 1.1 MB/s eta 0:00:04\n",
      "   -------------------------------- ------- 12.8/16.0 MB 1.1 MB/s eta 0:00:03\n",
      "   -------------------------------- ------- 13.1/16.0 MB 1.1 MB/s eta 0:00:03\n",
      "   --------------------------------- ------ 13.4/16.0 MB 1.1 MB/s eta 0:00:03\n",
      "   ---------------------------------- ----- 13.6/16.0 MB 1.1 MB/s eta 0:00:03\n",
      "   ---------------------------------- ----- 13.6/16.0 MB 1.1 MB/s eta 0:00:03\n",
      "   ---------------------------------- ----- 13.9/16.0 MB 1.1 MB/s eta 0:00:02\n",
      "   ----------------------------------- ---- 14.2/16.0 MB 1.1 MB/s eta 0:00:02\n",
      "   ------------------------------------ --- 14.4/16.0 MB 1.1 MB/s eta 0:00:02\n",
      "   ------------------------------------ --- 14.7/16.0 MB 1.1 MB/s eta 0:00:02\n",
      "   ------------------------------------- -- 14.9/16.0 MB 1.1 MB/s eta 0:00:01\n",
      "   -------------------------------------- - 15.2/16.0 MB 1.1 MB/s eta 0:00:01\n",
      "   -------------------------------------- - 15.2/16.0 MB 1.1 MB/s eta 0:00:01\n",
      "   -------------------------------------- - 15.5/16.0 MB 1.1 MB/s eta 0:00:01\n",
      "   ---------------------------------------  15.7/16.0 MB 1.1 MB/s eta 0:00:01\n",
      "   ---------------------------------------- 16.0/16.0 MB 1.1 MB/s eta 0:00:00\n",
      "Installing collected packages: pymupdf\n",
      "Successfully installed pymupdf-1.24.12\n",
      "Note: you may need to restart the kernel to use updated packages.\n"
     ]
    }
   ],
   "source": [
    "pip install --upgrade pymupdf"
   ]
  },
  {
   "cell_type": "markdown",
   "metadata": {},
   "source": [
    "The main code"
   ]
  },
  {
   "cell_type": "code",
   "execution_count": null,
   "metadata": {},
   "outputs": [],
   "source": [
    "import cv2\n",
    "import pytesseract\n",
    "import fitz  # PyMuPDF\n",
    "import os\n",
    "\n",
    "# Ask the user to enter the path to the PDF file\n",
    "scanned_pdf = input(\"Please enter the path of the PDF file/image path : \")\n",
    "\n",
    "# Check if the file exists\n",
    "if not os.path.isfile(scanned_pdf):\n",
    "    print(\"The specified file does not exist. Please check the path and try again.\")\n",
    "else:\n",
    "    # Open the PDF with fitz (PyMuPDF)\n",
    "    doc = fitz.open(scanned_pdf)\n",
    "\n",
    "    # Create a directory to save images\n",
    "    output_dir = \"pdf_images\"\n",
    "    os.makedirs(output_dir, exist_ok=True)\n",
    "\n",
    "    # Convert each page to an image and save\n",
    "    for page_number in range(len(doc)):\n",
    "        page = doc[page_number]\n",
    "        pix = page.get_pixmap(dpi=300)  # Increase DPI for better quality\n",
    "        image_path = os.path.join(output_dir, f'page_{page_number}.png')\n",
    "        pix.save(image_path)\n",
    "        print(f'Saved {image_path}')\n",
    "\n",
    "        # Read the image using OpenCV\n",
    "        image = cv2.imread(image_path)\n",
    "\n",
    "        # Convert the image to grayscale\n",
    "        gray_image = cv2.cvtColor(image, cv2.COLOR_BGR2GRAY)\n",
    "\n",
    "        # Apply Gaussian Blur to reduce noise\n",
    "        blurred_image = cv2.GaussianBlur(gray_image, (5, 5), 0)\n",
    "\n",
    "        # Apply adaptive thresholding to create a binary image\n",
    "        binary_image = cv2.adaptiveThreshold(blurred_image, 255,\n",
    "                                             cv2.ADAPTIVE_THRESH_GAUSSIAN_C,\n",
    "                                             cv2.THRESH_BINARY_INV, 11, 2)\n",
    "\n",
    "        # Apply dilation and erosion to connect broken letters and reduce noise\n",
    "        kernel = cv2.getStructuringElement(cv2.MORPH_RECT, (3, 3))\n",
    "        dilated_image = cv2.dilate(binary_image, kernel, iterations=1)\n",
    "        eroded_image = cv2.erode(dilated_image, kernel, iterations=1)\n",
    "\n",
    "        # Use pytesseract to extract text from the image with configuration\n",
    "        custom_config = r'--oem 3 --psm 6'  # Consider using --psm 3 for single block of text or --psm 1 for automatic detection\n",
    "        ocrd_text = pytesseract.image_to_string(eroded_image, config=custom_config)\n",
    "\n",
    "        print(f\"Text extracted from page {page_number} using OpenCV and Tesseract:\")\n",
    "        print(ocrd_text)\n",
    "\n",
    "        # Save the extracted text to a text file\n",
    "        output_text_file = \"pdf_text.txt\"\n",
    "        with open(output_text_file, 'a', encoding='utf-8') as f:  # Append mode\n",
    "            f.write(f\"Text extracted from page {page_number}:\\n\")\n",
    "            f.write(ocrd_text + \"\\n\\n\")\n",
    "\n",
    "    print(f\"Extracted text has been saved to {output_text_file}.\")\n"
   ]
  }
 ],
 "metadata": {
  "kernelspec": {
   "display_name": "Python 3",
   "language": "python",
   "name": "python3"
  },
  "language_info": {
   "codemirror_mode": {
    "name": "ipython",
    "version": 3
   },
   "file_extension": ".py",
   "mimetype": "text/x-python",
   "name": "python",
   "nbconvert_exporter": "python",
   "pygments_lexer": "ipython3",
   "version": "3.12.1"
  }
 },
 "nbformat": 4,
 "nbformat_minor": 2
}
